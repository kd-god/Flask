{
 "cells": [
  {
   "cell_type": "code",
   "execution_count": null,
   "metadata": {},
   "outputs": [],
   "source": [
    "from flask import Flask"
   ]
  },
  {
   "cell_type": "markdown",
   "metadata": {},
   "source": [
    "1.\n",
    "Flask(__name__)으로 객체를 설정하여, 현재 위치를 flask 객체에 알려줘야함. 아니면\n",
    "정상 동작되지 않음\n",
    "\n",
    "2.\n",
    "__name__은 해당 파일을 직접 실행하면 __main__으로 시작되고, 타 파일에서\n",
    "module로서 실행되면 해당 파일의 이름으로 실행된다."
   ]
  },
  {
   "cell_type": "code",
   "execution_count": null,
   "metadata": {},
   "outputs": [],
   "source": [
    "app = Flask(__name__)"
   ]
  },
  {
   "cell_type": "code",
   "execution_count": null,
   "metadata": {},
   "outputs": [],
   "source": [
    "__name__"
   ]
  },
  {
   "cell_type": "markdown",
   "metadata": {},
   "source": [
    "# 1. 라우팅?\n",
    "\n",
    "1-1. URL이란?\n",
    "\n",
    "- 가. Uniform Resource Locator\n",
    "\n",
    "- 나. 인터넷 상의 자원 위치 표기를 위한 규약\n",
    "\n",
    "- 다. www 주요 요소 중 하나 : HTML(데이터 나타냄), URL(데이터 위치), HTTP(통신 방법)\n",
    "\n",
    "---\n",
    "\n",
    "1-2. URL VS URI\n",
    "\n",
    "- 가. URI는 어떤 웹페이지의 대한 전체 주소를 말한다.\n",
    "\n",
    "ex ) https://news.naver.com/main/main.naver?mode=LSD&mid=shm&sid1=100\n",
    "\n",
    "- 나. URL은 라우팅까지의 위치를 뜻함.\n",
    "\n",
    "ex ) https://news.naver.com/main/main.naver\n",
    "\n",
    "---\n",
    "1-3. 라우팅이란?\n",
    "- 가. 적절한 목적지를 찾아주는 기능\n",
    "\n",
    "- 나. URL을 해당 URL에 맞는 기능과 연결해줌\n",
    "\n",
    "ex) \n",
    "\n",
    "http://www.fun-coding.rog/hello\n",
    "\n",
    "http://www.fun-coding.rog 서버에서 hello이라는 목적지에 맞는 함수를 호출해줌"
   ]
  },
  {
   "cell_type": "code",
   "execution_count": null,
   "metadata": {},
   "outputs": [],
   "source": [
    "@app.route(\"/hello\")\n",
    "def hello():\n",
    "    return \"<h1>Hello World!</h1>\""
   ]
  },
  {
   "cell_type": "markdown",
   "metadata": {},
   "source": [
    "# Web Server와 WAS 프레임워크\n",
    "\n",
    "- 웹서버는 정적인 HTML 페이지를 반환한다.\n",
    "    - 요청에 따른 정적인 데이터를 반환한다.\n",
    "\n",
    "- 웹서버가 동적으로 데이터를 반환하도록 하기 위해서는, WAS 프레임워크가 필요하다.\n",
    "    - 주요 WAS 프레임워크로는 Flask가 있다.\n",
    "    \n",
    " "
   ]
  },
  {
   "cell_type": "markdown",
   "metadata": {},
   "source": [
    "# 기본 개발 프로세스\n",
    "- 자신의 PC에서 웹서비스 구현\n",
    "    - locathost, 127.0.0.1 또는 0.0.0.0으로 host 설정\n",
    "    - app.run()함수로 자체 웹서버 구현 가능"
   ]
  },
  {
   "cell_type": "code",
   "execution_count": 1,
   "metadata": {},
   "outputs": [
    {
     "name": "stdout",
     "output_type": "stream",
     "text": [
      " * Serving Flask app '__main__'\n",
      " * Debug mode: off\n"
     ]
    },
    {
     "name": "stderr",
     "output_type": "stream",
     "text": [
      "WARNING: This is a development server. Do not use it in a production deployment. Use a production WSGI server instead.\n",
      " * Running on all addresses (0.0.0.0)\n",
      " * Running on http://127.0.0.1:8080\n",
      " * Running on http://192.168.11.83:8080\n",
      "Press CTRL+C to quit\n"
     ]
    }
   ],
   "source": [
    "from flask import Flask\n",
    "\n",
    "app = Flask(__name__)\n",
    "\n",
    "@app.route(\"/hello\")\n",
    "def hello():\n",
    "    return \"<h1>Hello Flask</h1>\"\n",
    "\n",
    "if __name__ == \"__main__\":\n",
    "    app.run(host=\"0.0.0.0\", port = \"8080\")"
   ]
  },
  {
   "cell_type": "markdown",
   "metadata": {},
   "source": [
    "# 2. 파이썬 중급: 데코레이터의 이해\n",
    "\n",
    "- 데코레이터는 단지 파이썬 flask뿐만 아니라, 다양한 언어 전반에 걸쳐서 많이 사용됨\n",
    "\n",
    "- 파이썬 flask에서 나오는 데코레이터를 쓰기 전에, 언어 전반에 걸친 데코레이터 관련 기술을 이해해야됨\n",
    "---\n",
    "2-1. 중첩 함수(Nested function)\n",
    "\n",
    "- 함수 내부에 정의된 또 다른 함수\n",
    "\n",
    "- 함수 안에 선언된 변수는 함수 안에서만 사용 가능한 원리와 동일 (로컬 변수)\n",
    "\n",
    "- 함수는 호출되면 stack에 쌓이고 호출이 끝나면 stack에서 사라진다.(return) "
   ]
  },
  {
   "cell_type": "code",
   "execution_count": 5,
   "metadata": {},
   "outputs": [
    {
     "name": "stdout",
     "output_type": "stream",
     "text": [
      "call outer_func function\n",
      "call inner_func function\n"
     ]
    }
   ],
   "source": [
    "def outer_func():\n",
    "    print('call outer_func function')\n",
    "    def inner_func():\n",
    "        return 'call inner_func function'\n",
    "    print(inner_func())\n",
    "outer_func()"
   ]
  },
  {
   "cell_type": "markdown",
   "metadata": {},
   "source": [
    "[그런데 중첩함수를 함수 밖에서도 호출할 수 있는 방법이 있다. 이 방법을 이해하기 위해 First<br>-class function, closure에 대해 알아야한다.]"
   ]
  },
  {
   "cell_type": "code",
   "execution_count": 7,
   "metadata": {},
   "outputs": [
    {
     "name": "stdout",
     "output_type": "stream",
     "text": [
      "10\n",
      "complex\n"
     ]
    }
   ],
   "source": [
    "def outer_func(num):\n",
    "    def inner_func():\n",
    "        print(num)\n",
    "        return 'complex'\n",
    "    return inner_func\n",
    "fn = outer_func(10) # <- first class\n",
    "print(fn())"
   ]
  },
  {
   "cell_type": "markdown",
   "metadata": {},
   "source": [
    "2.2 First-class function\n",
    "\n",
    "First-class 함수\n",
    "- 다음과 같이 다룰 수 있는 함수를 First-class 함수라고 부름\n",
    "    - 함수 자체를 변수에 저장 가능\n",
    "    - 함수의 인자에 다른 함수를 인수로 전달 가능\n",
    "    - 함수의 반환 값(return값)으로 함수를 전달 가능\n",
    "  \n",
    "파이썬과 First - class 함수\n",
    "- 사실 파이썬에서는 모든 것이 객체\n",
    "- 파이썬 함수도 객체로 되어 있어, 기본 함수 기능 이외 객체와 같은 활용이 가능\n",
    "    - 즉, 파이썬의 함수들은  First-class 함수로 사용 가능"
   ]
  },
  {
   "cell_type": "code",
   "execution_count": 15,
   "metadata": {},
   "outputs": [
    {
     "name": "stdout",
     "output_type": "stream",
     "text": [
      "<function calc_square at 0x000002CDC35C6828>\n"
     ]
    },
    {
     "data": {
      "text/plain": [
       "8"
      ]
     },
     "execution_count": 15,
     "metadata": {},
     "output_type": "execute_result"
    }
   ],
   "source": [
    "# 다른 변수에 함수 할당 가능\n",
    "def calc_square(digit):\n",
    "    return digit + digit\n",
    "calc_square(2)\n",
    "\n",
    "func1 = calc_square\n",
    "print(func1)\n",
    "func1(4)"
   ]
  },
  {
   "cell_type": "code",
   "execution_count": 16,
   "metadata": {},
   "outputs": [
    {
     "name": "stdout",
     "output_type": "stream",
     "text": [
      "[1, 4, 9, 16, 25]\n",
      "[2, 4, 6, 8, 10]\n",
      "[1, 16, 81, 256, 625]\n"
     ]
    }
   ],
   "source": [
    "# 함수를 다른 함수에 인자로 넣을 수도 있음\n",
    "def calc_square(digit):\n",
    "    return digit * digit\n",
    "def calc_plus(digit):\n",
    "    return digit + digit\n",
    "def calc_quad(digit):\n",
    "    return digit * digit * digit * digit\n",
    "\n",
    "def list_square(function, digit_list):\n",
    "    result = list()\n",
    "    for digit in digit_list:\n",
    "        result.append(function(digit))\n",
    "    print(result)\n",
    "    \n",
    "num_list = [1,2,3,4,5]\n",
    "\n",
    "list_square(calc_square, num_list)\n",
    "list_square(calc_plus, num_list)\n",
    "list_square(calc_quad, num_list)"
   ]
  },
  {
   "cell_type": "code",
   "execution_count": 21,
   "metadata": {},
   "outputs": [
    {
     "name": "stdout",
     "output_type": "stream",
     "text": [
      "HIGH LEVEL : Dave Log-in\n"
     ]
    }
   ],
   "source": [
    "#함수의 결과값으로 함수를 리턴할 수도 있음\n",
    "def logger(msg):\n",
    "    message = msg\n",
    "    def msg_creator():\n",
    "        print('HIGH LEVEL :', message)\n",
    "    return msg_creator\n",
    "\n",
    "log1 = logger('Dave Log-in')\n",
    "log1()"
   ]
  },
  {
   "cell_type": "code",
   "execution_count": 22,
   "metadata": {},
   "outputs": [
    {
     "name": "stdout",
     "output_type": "stream",
     "text": [
      "<h1>H1 태그는 타이틀을 표시하는 태그입니다.</h1\n"
     ]
    }
   ],
   "source": [
    "# Frist - class 함수 활용\n",
    "def html_creator(tag):\n",
    "    def text_wrapper(msg):\n",
    "        print('<{0}>{1}</{0}>'.format(tag,msg))\n",
    "    return text_wrapper\n",
    "h1_html_creator = html_creator('h1')\n",
    "h1_html_creator('H1 태그는 타이틀을 표시하는 태그입니다.')"
   ]
  },
  {
   "cell_type": "code",
   "execution_count": 23,
   "metadata": {},
   "outputs": [
    {
     "name": "stdout",
     "output_type": "stream",
     "text": [
      "- 안녕\n",
      "- 하세요\n"
     ]
    }
   ],
   "source": [
    "# Frist - class 함수 활용\n",
    "def index_creator(mark):\n",
    "    def hi(list_data):\n",
    "        for item in list_data:\n",
    "            print('{0} {1}'.format(mark, item))\n",
    "    return hi\n",
    "data_list_minus = index_creator('-')\n",
    "data_list_minus(['안녕','하세요'])"
   ]
  },
  {
   "cell_type": "code",
   "execution_count": null,
   "metadata": {},
   "outputs": [],
   "source": []
  }
 ],
 "metadata": {
  "kernelspec": {
   "display_name": "Python 3",
   "language": "python",
   "name": "python3"
  },
  "language_info": {
   "codemirror_mode": {
    "name": "ipython",
    "version": 3
   },
   "file_extension": ".py",
   "mimetype": "text/x-python",
   "name": "python",
   "nbconvert_exporter": "python",
   "pygments_lexer": "ipython3",
   "version": "3.7.9"
  }
 },
 "nbformat": 4,
 "nbformat_minor": 4
}
