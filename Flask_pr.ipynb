{
 "cells": [
  {
   "cell_type": "code",
   "execution_count": null,
   "metadata": {},
   "outputs": [],
   "source": [
    "from flask import Flask"
   ]
  },
  {
   "cell_type": "markdown",
   "metadata": {},
   "source": [
    "1.\n",
    "Flask(__name__)으로 객체를 설정하여, 현재 위치를 flask 객체에 알려줘야함. 아니면\n",
    "정상 동작되지 않음\n",
    "\n",
    "2.\n",
    "__name__은 해당 파일을 직접 실행하면 __main__으로 시작되고, 타 파일에서\n",
    "module로서 실행되면 해당 파일의 이름으로 실행된다."
   ]
  },
  {
   "cell_type": "code",
   "execution_count": null,
   "metadata": {},
   "outputs": [],
   "source": [
    "app = Flask(__name__)"
   ]
  },
  {
   "cell_type": "code",
   "execution_count": null,
   "metadata": {},
   "outputs": [],
   "source": [
    "__name__"
   ]
  },
  {
   "cell_type": "markdown",
   "metadata": {},
   "source": [
    "# 1. 라우팅?\n",
    "\n",
    "1-1. URL이란?\n",
    "\n",
    "- 가. Uniform Resource Locator\n",
    "\n",
    "- 나. 인터넷 상의 자원 위치 표기를 위한 규약\n",
    "\n",
    "- 다. www 주요 요소 중 하나 : HTML(데이터 나타냄), URL(데이터 위치), HTTP(통신 방법)\n",
    "\n",
    "---\n",
    "\n",
    "1-2. URL VS URI\n",
    "\n",
    "- 가. URI는 어떤 웹페이지의 대한 전체 주소를 말한다.\n",
    "\n",
    "ex ) https://news.naver.com/main/main.naver?mode=LSD&mid=shm&sid1=100\n",
    "\n",
    "- 나. URL은 라우팅까지의 위치를 뜻함.\n",
    "\n",
    "ex ) https://news.naver.com/main/main.naver\n",
    "\n",
    "---\n",
    "1-3. 라우팅이란?\n",
    "- 가. 적절한 목적지를 찾아주는 기능\n",
    "\n",
    "- 나. URL을 해당 URL에 맞는 기능과 연결해줌\n",
    "\n",
    "ex) \n",
    "\n",
    "http://www.fun-coding.rog/hello\n",
    "\n",
    "http://www.fun-coding.rog 서버에서 hello이라는 목적지에 맞는 함수를 호출해줌"
   ]
  },
  {
   "cell_type": "code",
   "execution_count": null,
   "metadata": {},
   "outputs": [],
   "source": [
    "@app.route(\"/hello\")\n",
    "def hello():\n",
    "    return \"<h1>Hello World!</h1>\""
   ]
  },
  {
   "cell_type": "markdown",
   "metadata": {},
   "source": [
    "# Web Server와 WAS 프레임워크\n",
    "\n",
    "- 웹서버는 정적인 HTML 페이지를 반환한다.\n",
    "    - 요청에 따른 정적인 데이터를 반환한다.\n",
    "\n",
    "- 웹서버가 동적으로 데이터를 반환하도록 하기 위해서는, WAS 프레임워크가 필요하다.\n",
    "    - 주요 WAS 프레임워크로는 Flask가 있다.\n",
    "    \n",
    " "
   ]
  },
  {
   "cell_type": "markdown",
   "metadata": {},
   "source": [
    "# 기본 개발 프로세스\n",
    "- 자신의 PC에서 웹서비스 구현\n",
    "    - locathost, 127.0.0.1 또는 0.0.0.0으로 host 설정\n",
    "    - app.run()함수로 자체 웹서버 구현 가능"
   ]
  },
  {
   "cell_type": "code",
   "execution_count": 1,
   "metadata": {},
   "outputs": [
    {
     "name": "stdout",
     "output_type": "stream",
     "text": [
      " * Serving Flask app '__main__'\n",
      " * Debug mode: off\n"
     ]
    },
    {
     "name": "stderr",
     "output_type": "stream",
     "text": [
      "WARNING: This is a development server. Do not use it in a production deployment. Use a production WSGI server instead.\n",
      " * Running on all addresses (0.0.0.0)\n",
      " * Running on http://127.0.0.1:8080\n",
      " * Running on http://192.168.11.83:8080\n",
      "Press CTRL+C to quit\n"
     ]
    }
   ],
   "source": [
    "from flask import Flask\n",
    "\n",
    "app = Flask(__name__)\n",
    "\n",
    "@app.route(\"/hello\")\n",
    "def hello():\n",
    "    return \"<h1>Hello Flask</h1>\"\n",
    "\n",
    "if __name__ == \"__main__\":\n",
    "    app.run(host=\"0.0.0.0\", port = \"8080\")"
   ]
  },
  {
   "cell_type": "markdown",
   "metadata": {},
   "source": [
    "# 2. 파이썬 중급: 데코레이터의 이해\n",
    "\n",
    "- 데코레이터는 단지 파이썬 flask뿐만 아니라, 다양한 언어 전반에 걸쳐서 많이 사용됨\n",
    "\n",
    "- 파이썬 flask에서 나오는 데코레이터를 쓰기 전에, 언어 전반에 걸친 데코레이터 관련 기술을 이해해야됨\n",
    "---\n",
    "2-1. 중첩 함수(Nested function)\n",
    "\n",
    "- 함수 내부에 정의된 또 다른 함수\n",
    "\n",
    "- 함수 안에 선언된 변수는 함수 안에서만 사용 가능한 원리와 동일 (로컬 변수)\n",
    "\n",
    "- 함수는 호출되면 stack에 쌓이고 호출이 끝나면 stack에서 사라진다.(return) "
   ]
  },
  {
   "cell_type": "code",
   "execution_count": 5,
   "metadata": {},
   "outputs": [
    {
     "name": "stdout",
     "output_type": "stream",
     "text": [
      "call outer_func function\n",
      "call inner_func function\n"
     ]
    }
   ],
   "source": [
    "def outer_func():\n",
    "    print('call outer_func function')\n",
    "    def inner_func():\n",
    "        return 'call inner_func function'\n",
    "    print(inner_func())\n",
    "outer_func()"
   ]
  },
  {
   "cell_type": "markdown",
   "metadata": {},
   "source": [
    "[그런데 중첩함수를 함수 밖에서도 호출할 수 있는 방법이 있다. 이 방법을 이해하기 위해 First<br>-class function, closure에 대해 알아야한다.]"
   ]
  },
  {
   "cell_type": "code",
   "execution_count": 7,
   "metadata": {},
   "outputs": [
    {
     "name": "stdout",
     "output_type": "stream",
     "text": [
      "10\n",
      "complex\n"
     ]
    }
   ],
   "source": [
    "def outer_func(num):\n",
    "    def inner_func():\n",
    "        print(num)\n",
    "        return 'complex'\n",
    "    return inner_func\n",
    "fn = outer_func(10) # <- first class\n",
    "print(fn())"
   ]
  },
  {
   "cell_type": "markdown",
   "metadata": {},
   "source": [
    "2.2 First-class function\n",
    "\n",
    "First-class 함수\n",
    "- 다음과 같이 다룰 수 있는 함수를 First-class 함수라고 부름\n",
    "    - 함수 자체를 변수에 저장 가능\n",
    "    - 함수의 인자에 다른 함수를 인수로 전달 가능\n",
    "    - 함수의 반환 값(return값)으로 함수를 전달 가능\n",
    "  \n",
    "파이썬과 First - class 함수\n",
    "- 사실 파이썬에서는 모든 것이 객체\n",
    "- 파이썬 함수도 객체로 되어 있어, 기본 함수 기능 이외 객체와 같은 활용이 가능\n",
    "    - 즉, 파이썬의 함수들은  First-class 함수로 사용 가능"
   ]
  },
  {
   "cell_type": "code",
   "execution_count": 15,
   "metadata": {},
   "outputs": [
    {
     "name": "stdout",
     "output_type": "stream",
     "text": [
      "<function calc_square at 0x000002CDC35C6828>\n"
     ]
    },
    {
     "data": {
      "text/plain": [
       "8"
      ]
     },
     "execution_count": 15,
     "metadata": {},
     "output_type": "execute_result"
    }
   ],
   "source": [
    "# 다른 변수에 함수 할당 가능\n",
    "def calc_square(digit):\n",
    "    return digit + digit\n",
    "calc_square(2)\n",
    "\n",
    "func1 = calc_square\n",
    "print(func1)\n",
    "func1(4)"
   ]
  },
  {
   "cell_type": "code",
   "execution_count": 16,
   "metadata": {},
   "outputs": [
    {
     "name": "stdout",
     "output_type": "stream",
     "text": [
      "[1, 4, 9, 16, 25]\n",
      "[2, 4, 6, 8, 10]\n",
      "[1, 16, 81, 256, 625]\n"
     ]
    }
   ],
   "source": [
    "# 함수를 다른 함수에 인자로 넣을 수도 있음\n",
    "def calc_square(digit):\n",
    "    return digit * digit\n",
    "def calc_plus(digit):\n",
    "    return digit + digit\n",
    "def calc_quad(digit):\n",
    "    return digit * digit * digit * digit\n",
    "\n",
    "def list_square(function, digit_list):\n",
    "    result = list()\n",
    "    for digit in digit_list:\n",
    "        result.append(function(digit))\n",
    "    print(result)\n",
    "    \n",
    "num_list = [1,2,3,4,5]\n",
    "\n",
    "list_square(calc_square, num_list)\n",
    "list_square(calc_plus, num_list)\n",
    "list_square(calc_quad, num_list)"
   ]
  },
  {
   "cell_type": "code",
   "execution_count": 21,
   "metadata": {},
   "outputs": [
    {
     "name": "stdout",
     "output_type": "stream",
     "text": [
      "HIGH LEVEL : Dave Log-in\n"
     ]
    }
   ],
   "source": [
    "#함수의 결과값으로 함수를 리턴할 수도 있음\n",
    "def logger(msg):\n",
    "    message = msg\n",
    "    def msg_creator():\n",
    "        print('HIGH LEVEL :', message)\n",
    "    return msg_creator\n",
    "\n",
    "log1 = logger('Dave Log-in')\n",
    "log1()"
   ]
  },
  {
   "cell_type": "code",
   "execution_count": 22,
   "metadata": {},
   "outputs": [
    {
     "name": "stdout",
     "output_type": "stream",
     "text": [
      "<h1>H1 태그는 타이틀을 표시하는 태그입니다.</h1\n"
     ]
    }
   ],
   "source": [
    "# Frist - class 함수 활용\n",
    "def html_creator(tag):\n",
    "    def text_wrapper(msg):\n",
    "        print('<{0}>{1}</{0}>'.format(tag,msg))\n",
    "    return text_wrapper\n",
    "h1_html_creator = html_creator('h1')\n",
    "h1_html_creator('H1 태그는 타이틀을 표시하는 태그입니다.')"
   ]
  },
  {
   "cell_type": "code",
   "execution_count": 23,
   "metadata": {},
   "outputs": [
    {
     "name": "stdout",
     "output_type": "stream",
     "text": [
      "- 안녕\n",
      "- 하세요\n"
     ]
    }
   ],
   "source": [
    "# Frist - class 함수 활용\n",
    "def index_creator(mark):\n",
    "    def hi(list_data):\n",
    "        for item in list_data:\n",
    "            print('{0} {1}'.format(mark, item))\n",
    "    return hi\n",
    "data_list_minus = index_creator('-')\n",
    "data_list_minus(['안녕','하세요'])"
   ]
  },
  {
   "cell_type": "markdown",
   "metadata": {},
   "source": [
    "2.3. Closure function\n",
    "- 함수와 해당 함수가 가지고 있는 데이터를 함께 복사, 저장해서 별도 함수로 활용하는 기법으로 first-class 함수와 동일\n",
    "- 외부 함수가 소멸되더라도, 외부 함수 안에 있는 로컬 변수 값과 중첩함수를 사용할 수 있는 기법"
   ]
  },
  {
   "cell_type": "code",
   "execution_count": 2,
   "metadata": {},
   "outputs": [
    {
     "name": "stdout",
     "output_type": "stream",
     "text": [
      "10\n"
     ]
    },
    {
     "data": {
      "text/plain": [
       "8"
      ]
     },
     "execution_count": 2,
     "metadata": {},
     "output_type": "execute_result"
    }
   ],
   "source": [
    "def outer_func(num):\n",
    "    def inner_func():\n",
    "        print(num)\n",
    "        return 8\n",
    "    return inner_func\n",
    "clousre_func = outer_func(10)\n",
    "clousre_func()"
   ]
  },
  {
   "cell_type": "raw",
   "metadata": {},
   "source": [
    "언제 closure를 사용할까?\n",
    "- closure는 객체와 유사\n",
    "- 일반적으로 제공해야할 기능이 적은 경우, clousre를 사용하기도 함\n",
    "- 제공해야할 기능이 많은 경우들은 class를 사용하여 구현"
   ]
  },
  {
   "cell_type": "code",
   "execution_count": 5,
   "metadata": {},
   "outputs": [
    {
     "name": "stdout",
     "output_type": "stream",
     "text": [
      "4\n",
      "8\n",
      "16\n"
     ]
    }
   ],
   "source": [
    "def calc_power(n):\n",
    "    def power(digit):\n",
    "        return digit ** n\n",
    "    return power\n",
    "power2 = calc_power(2)\n",
    "power3 = calc_power(3)\n",
    "power4 = calc_power(4)\n",
    "print(power2(2))\n",
    "print(power3(2))\n",
    "print(power4(2))"
   ]
  },
  {
   "cell_type": "markdown",
   "metadata": {},
   "source": [
    "#### 연습문제<br>\n",
    "1에서 5까지 1승부터 5승까지 출력하기 클로져 함수를 사용해서 나타내기"
   ]
  },
  {
   "cell_type": "code",
   "execution_count": 4,
   "metadata": {},
   "outputs": [
    {
     "name": "stdout",
     "output_type": "stream",
     "text": [
      "1의 1제곱은 :  1\n",
      "1의 2제곱은 :  1\n",
      "1의 3제곱은 :  1\n",
      "1의 4제곱은 :  1\n",
      "1의 5제곱은 :  1\n",
      "2의 1제곱은 :  2\n",
      "2의 2제곱은 :  4\n",
      "2의 3제곱은 :  8\n",
      "2의 4제곱은 :  16\n",
      "2의 5제곱은 :  32\n",
      "3의 1제곱은 :  3\n",
      "3의 2제곱은 :  9\n",
      "3의 3제곱은 :  27\n",
      "3의 4제곱은 :  81\n",
      "3의 5제곱은 :  243\n",
      "4의 1제곱은 :  4\n",
      "4의 2제곱은 :  16\n",
      "4의 3제곱은 :  64\n",
      "4의 4제곱은 :  256\n",
      "4의 5제곱은 :  1024\n",
      "5의 1제곱은 :  5\n",
      "5의 2제곱은 :  25\n",
      "5의 3제곱은 :  125\n",
      "5의 4제곱은 :  625\n",
      "5의 5제곱은 :  3125\n"
     ]
    }
   ],
   "source": [
    "def calc_power(n):\n",
    "    def jegop(digit):\n",
    "        for i in range(1, n+1):\n",
    "            for j in range(1, digit+1):\n",
    "                print(f'{i}의 {j}제곱은 : ', i**j)\n",
    "    return jegop\n",
    "hi = calc_power(5)\n",
    "hi(5)"
   ]
  },
  {
   "cell_type": "code",
   "execution_count": 6,
   "metadata": {},
   "outputs": [
    {
     "name": "stdout",
     "output_type": "stream",
     "text": [
      "2\n",
      "4\n",
      "8\n",
      "16\n",
      "32\n"
     ]
    }
   ],
   "source": [
    "list_data = list()\n",
    "for num in range(1,6):\n",
    "    list_data.append(calc_power(num))\n",
    "for func in list_data:\n",
    "    print(func(2))"
   ]
  },
  {
   "cell_type": "code",
   "execution_count": 9,
   "metadata": {},
   "outputs": [
    {
     "name": "stdout",
     "output_type": "stream",
     "text": [
      "1의 1제곱은 :  1\n",
      "1의 2제곱은 :  1\n",
      "1의 3제곱은 :  1\n",
      "1의 4제곱은 :  1\n",
      "1의 5제곱은 :  1\n",
      "2의 1제곱은 :  2\n",
      "2의 2제곱은 :  4\n",
      "2의 3제곱은 :  8\n",
      "2의 4제곱은 :  16\n",
      "2의 5제곱은 :  32\n",
      "3의 1제곱은 :  3\n",
      "3의 2제곱은 :  9\n",
      "3의 3제곱은 :  27\n",
      "3의 4제곱은 :  81\n",
      "3의 5제곱은 :  243\n",
      "4의 1제곱은 :  4\n",
      "4의 2제곱은 :  16\n",
      "4의 3제곱은 :  64\n",
      "4의 4제곱은 :  256\n",
      "4의 5제곱은 :  1024\n",
      "5의 1제곱은 :  5\n",
      "5의 2제곱은 :  25\n",
      "5의 3제곱은 :  125\n",
      "5의 4제곱은 :  625\n",
      "5의 5제곱은 :  3125\n"
     ]
    }
   ],
   "source": [
    "# del calc_power\n",
    "hi(5)"
   ]
  },
  {
   "cell_type": "markdown",
   "metadata": {},
   "source": [
    "#### 2.4 데코레이터(Decorator)\n",
    "- 함수 앞뒤에 기능을 추가해서 손쉽게 함수를 활용할 수 있는 기법\n",
    "- Clousre function을 활용"
   ]
  },
  {
   "cell_type": "code",
   "execution_count": 14,
   "metadata": {},
   "outputs": [],
   "source": [
    "# 데코레이터 작성하기\n",
    "import datetime\n",
    "def datetime_decorator(func): # first class 활용\n",
    "    def wrapper():\n",
    "        print('time' +' '+ str(datetime.datetime.now()))\n",
    "        func()\n",
    "        print(datetime.datetime.now())\n",
    "    return wrapper"
   ]
  },
  {
   "cell_type": "code",
   "execution_count": 15,
   "metadata": {},
   "outputs": [
    {
     "name": "stdout",
     "output_type": "stream",
     "text": [
      "time 2022-09-05 19:50:45.904774\n",
      "David login\n",
      "2022-09-05 19:50:45.904774\n"
     ]
    }
   ],
   "source": [
    "@datetime_decorator\n",
    "def logger_login_david():\n",
    "    print(\"David login\")\n",
    "    \n",
    "logger_login_david()"
   ]
  },
  {
   "cell_type": "code",
   "execution_count": 16,
   "metadata": {},
   "outputs": [
    {
     "name": "stdout",
     "output_type": "stream",
     "text": [
      "decoration added\n",
      "logging\n"
     ]
    }
   ],
   "source": [
    "# 데코레이터 작성하기\n",
    "def outer_func(function):\n",
    "    def inner_func():\n",
    "        print('decoration added')\n",
    "        function()\n",
    "    return inner_func\n",
    "\n",
    "def log_func():\n",
    "    print('logging')\n",
    "\n",
    "decorated_func = outer_func(log_func)\n",
    "decorated_func()"
   ]
  },
  {
   "cell_type": "code",
   "execution_count": 19,
   "metadata": {},
   "outputs": [
    {
     "name": "stdout",
     "output_type": "stream",
     "text": [
      "decoration added\n",
      "loggin\n"
     ]
    }
   ],
   "source": [
    "# 위에 함수를 한줄로 표현\n",
    "@outer_func\n",
    "def log_func():\n",
    "    print('loggin')\n",
    "log_func() # => 즉 데코레이터 밑에 써주면 해당 데코레이터 함수식 인자로 밑에 함수가 들어감."
   ]
  },
  {
   "cell_type": "code",
   "execution_count": 26,
   "metadata": {},
   "outputs": [
    {
     "name": "stdout",
     "output_type": "stream",
     "text": [
      "0.6666666666666666\n",
      "Cannot be divided with zero\n"
     ]
    }
   ],
   "source": [
    "def outer_func(function):\n",
    "    def inner_func(digit1, digit2):\n",
    "        if digit2 == 0:\n",
    "            print('Cannot be divided with zero')\n",
    "            return\n",
    "        function(digit1, digit2)\n",
    "    return inner_func\n",
    "@outer_func\n",
    "def divide(digit1, digit2):\n",
    "    print(digit1/digit2)\n",
    "    \n",
    "divide(2,3)\n",
    "divide(2,0)"
   ]
  },
  {
   "cell_type": "code",
   "execution_count": 28,
   "metadata": {},
   "outputs": [
    {
     "data": {
      "text/plain": [
       "2"
      ]
     },
     "execution_count": 28,
     "metadata": {},
     "output_type": "execute_result"
    }
   ],
   "source": [
    "def type_checker(function):\n",
    "    def inner_func(digit1, digit2):\n",
    "        if(type(digit1) != int) or (type(digit2) != int):\n",
    "            print('the only int is supported')\n",
    "            return\n",
    "        return function(digit1, digit2)\n",
    "    return inner_func\n",
    "\n",
    "@type_checker\n",
    "def divide(digit1, digit2):\n",
    "    return digit1 * digit2\n",
    "divide(1,2)"
   ]
  },
  {
   "cell_type": "code",
   "execution_count": 30,
   "metadata": {},
   "outputs": [
    {
     "name": "stdout",
     "output_type": "stream",
     "text": [
      "function is decorated\n",
      "9\n",
      "function is decorated\n",
      "5\n"
     ]
    }
   ],
   "source": [
    "# 파라미터는 어떤 형태이든 (*args, **kwargs)로 표현 가능\n",
    "# 데코레이터의 내부함수 파라미터를(*args, **kwargs)로 작성하면 어떤 함수이든 데코레이터 적용 가능\n",
    "def general_decorator(function):\n",
    "    def wrapper(*args, **kwargs):\n",
    "        print('function is decorated')\n",
    "        return function(*args, **kwargs)\n",
    "    return wrapper\n",
    "\n",
    "@general_decorator\n",
    "def calc_square(digit):\n",
    "    return digit * digit\n",
    "\n",
    "@general_decorator\n",
    "def calc_plus(digit1, digit2):\n",
    "    return digit1 + digit2\n",
    "\n",
    "print(calc_square(3))\n",
    "print(calc_plus(2,3))"
   ]
  },
  {
   "cell_type": "markdown",
   "metadata": {},
   "source": [
    "#### 한 함수에 데코레이터 여러 개 지정하기\n",
    "- 함수에 여러 개의 데코레이터 지정 가능(여러 줄로 데코레이터를 써주면 됨)\n",
    "- 데코레이터를 나열한 순서대로 실행됨"
   ]
  },
  {
   "cell_type": "code",
   "execution_count": 31,
   "metadata": {},
   "outputs": [],
   "source": [
    "def decorator1(function):\n",
    "    def wrapper():\n",
    "        print('decorator1')\n",
    "        function()\n",
    "    return wrapper\n",
    "\n",
    "def decorator2(function):\n",
    "    def wrapper():\n",
    "        print('decorator2')\n",
    "        function()\n",
    "    return wrapper\n",
    "\n",
    "@decorator1\n",
    "@decorator2\n",
    "def hello():\n",
    "    print('hello')"
   ]
  },
  {
   "cell_type": "code",
   "execution_count": 32,
   "metadata": {},
   "outputs": [
    {
     "name": "stdout",
     "output_type": "stream",
     "text": [
      "decorator1\n",
      "decorator2\n",
      "hello\n"
     ]
    }
   ],
   "source": [
    "hello()"
   ]
  },
  {
   "cell_type": "markdown",
   "metadata": {},
   "source": [
    "#### Method Decorator\n",
    "- 클래스의 method에도 데코레이터 적용 가능\n",
    "    - 클래스 method는 첫 파라미터가 self이므로 이부분을 데코레이터 작성시에 포함시켜야함"
   ]
  },
  {
   "cell_type": "code",
   "execution_count": 33,
   "metadata": {},
   "outputs": [],
   "source": [
    "def hi_tag(function):\n",
    "    def func_wrapper(self, *args, **kwargs):\n",
    "        return \"<h1>{0}</h1>\".format(function(self, *args, **kwargs))\n",
    "    return func_wrapper"
   ]
  },
  {
   "cell_type": "code",
   "execution_count": 35,
   "metadata": {},
   "outputs": [
    {
     "name": "stdout",
     "output_type": "stream",
     "text": [
      "<h1>LEE DAVE</h1>\n"
     ]
    }
   ],
   "source": [
    "class Person:\n",
    "    def __init__(self, first_name, last_name):\n",
    "        self.a = first_name\n",
    "        self.b = last_name\n",
    "    @hi_tag\n",
    "    def write_name(self):\n",
    "        return self.a + ' '+self.b\n",
    "    \n",
    "davelee = Person('LEE','DAVE')\n",
    "print(davelee.write_name())"
   ]
  },
  {
   "cell_type": "markdown",
   "metadata": {},
   "source": [
    "#### 파라미터가 있는 Decorator 만들기(심화)\n",
    "- decorator에 파라미터를 추가 가능"
   ]
  },
  {
   "cell_type": "code",
   "execution_count": 37,
   "metadata": {},
   "outputs": [
    {
     "name": "stdout",
     "output_type": "stream",
     "text": [
      "decorator1 1\n"
     ]
    },
    {
     "data": {
      "text/plain": [
       "'안녕하세요안녕하세요안녕하세요안녕하세요'"
      ]
     },
     "execution_count": 37,
     "metadata": {},
     "output_type": "execute_result"
    }
   ],
   "source": [
    "# 중첩 함수의 하나 더 깊게 두어 생성\n",
    "def decorator1(num):\n",
    "    def outer_wrapper(func):\n",
    "        def inner_wrapper(*args, **kwargs):\n",
    "            print('decorator1 {}'.format(num))\n",
    "            return func(*args, **kwargs)\n",
    "        return inner_wrapper\n",
    "    return outer_wrapper\n",
    "\n",
    "def print_hello(a):\n",
    "    return a * 4\n",
    "\n",
    "print_hello = decorator1(1)(print_hello)\n",
    "print_hello('안녕하세요')"
   ]
  },
  {
   "cell_type": "code",
   "execution_count": 40,
   "metadata": {},
   "outputs": [
    {
     "name": "stdout",
     "output_type": "stream",
     "text": [
      "decorator1 1\n"
     ]
    },
    {
     "data": {
      "text/plain": [
       "'안냥세용안냥세용안냥세용안냥세용'"
      ]
     },
     "execution_count": 40,
     "metadata": {},
     "output_type": "execute_result"
    }
   ],
   "source": [
    "@decorator1(1)\n",
    "def print_hello(a):\n",
    "    return a * 4\n",
    "\n",
    "print_hello('안냥세용')"
   ]
  },
  {
   "cell_type": "markdown",
   "metadata": {},
   "source": [
    "#### flask와 Rest API"
   ]
  },
  {
   "cell_type": "code",
   "execution_count": 1,
   "metadata": {},
   "outputs": [
    {
     "name": "stdout",
     "output_type": "stream",
     "text": [
      " * Serving Flask app '__main__'\n",
      " * Debug mode: off\n"
     ]
    },
    {
     "name": "stderr",
     "output_type": "stream",
     "text": [
      "WARNING: This is a development server. Do not use it in a production deployment. Use a production WSGI server instead.\n",
      " * Running on all addresses (0.0.0.0)\n",
      " * Running on http://127.0.0.1:8080\n",
      " * Running on http://192.168.11.83:8080\n",
      "Press CTRL+C to quit\n",
      "192.168.11.83 - - [07/Sep/2022 14:51:40] \"GET / HTTP/1.1\" 200 -\n",
      "192.168.11.83 - - [07/Sep/2022 14:51:41] \"GET /favicon.ico HTTP/1.1\" 404 -\n",
      "192.168.11.83 - - [07/Sep/2022 14:51:46] \"GET /hello HTTP/1.1\" 200 -\n",
      "192.168.11.83 - - [07/Sep/2022 14:51:54] \"GET /first HTTP/1.1\" 200 -\n"
     ]
    }
   ],
   "source": [
    "from flask import Flask\n",
    "app = Flask(__name__)\n",
    "\n",
    "@app.route(\"/\")\n",
    "def hello():\n",
    "    return \"<h1>Hello World!</h1>\"\n",
    "\n",
    "@app.route(\"/hello\")\n",
    "def hello_flask():\n",
    "    return \"<h1>Hello Flash!</h1>\"\n",
    "\n",
    "@app.route(\"/first\")\n",
    "def hello_first():\n",
    "    return \"<h3>Hello First</h3>\"\n",
    "\n",
    "if __name__ ==\"__main__\":\n",
    "    app.run(host=\"0.0.0.0\", port = \"8080\")"
   ]
  },
  {
   "cell_type": "markdown",
   "metadata": {},
   "source": [
    "### 복잡한 라우팅 : 데이터 전달하기\n",
    "- URI를 변수로 사용\n",
    "    - 다음 코드 추가후, http://0.0.0.0:8080/profile/dave\n",
    "    \n",
    "@app.route(\"/profile/<usernamer>\")\n",
    "    \n",
    "def get_profile(username):<br>\n",
    "    return \"profile : \" + username"
   ]
  },
  {
   "cell_type": "code",
   "execution_count": null,
   "metadata": {},
   "outputs": [
    {
     "name": "stdout",
     "output_type": "stream",
     "text": [
      " * Serving Flask app '__main__'\n",
      " * Debug mode: off\n"
     ]
    },
    {
     "name": "stderr",
     "output_type": "stream",
     "text": [
      "WARNING: This is a development server. Do not use it in a production deployment. Use a production WSGI server instead.\n",
      " * Running on all addresses (0.0.0.0)\n",
      " * Running on http://127.0.0.1:8080\n",
      " * Running on http://192.168.11.83:8080\n",
      "Press CTRL+C to quit\n"
     ]
    }
   ],
   "source": [
    "app = Flask(__name__)\n",
    "\n",
    "@app.route(\"/\")\n",
    "def hello():\n",
    "    return \"<h1>Hello World!</h1>\"\n",
    "\n",
    "@app.route(\"/profile/<username>\")\n",
    "def get_profile(username):\n",
    "    return \"profile: \" + username\n",
    "\n",
    "@app.route(\"/first/<username>\")\n",
    "def get_first(username):\n",
    "    return \"<h3>Hello \" + username + \"!</h3>\"\n",
    "\n",
    "if __name__ ==\"__main__\":\n",
    "    app.run(host=\"0.0.0.0\", port = \"8080\")"
   ]
  },
  {
   "cell_type": "code",
   "execution_count": null,
   "metadata": {},
   "outputs": [
    {
     "name": "stdout",
     "output_type": "stream",
     "text": [
      " * Serving Flask app '__main__'\n",
      " * Debug mode: off\n"
     ]
    },
    {
     "name": "stderr",
     "output_type": "stream",
     "text": [
      "WARNING: This is a development server. Do not use it in a production deployment. Use a production WSGI server instead.\n",
      " * Running on all addresses (0.0.0.0)\n",
      " * Running on http://127.0.0.1:8080\n",
      " * Running on http://192.168.11.83:8080\n",
      "Press CTRL+C to quit\n"
     ]
    }
   ],
   "source": [
    "from flask import Flask\n",
    "app = Flask(__name__)\n",
    "def add_file(data):\n",
    "    return data + 5\n",
    "\n",
    "@app.route(\"/\")\n",
    "def hello():\n",
    "    return \"<h1>Hello World!</h1>\"\n",
    "\n",
    "@app.route(\"/message/<int:message_id>\")\n",
    "def get_message(message_id):\n",
    "    return \"message id : %d\" % message_id\n",
    "\n",
    "@app.route(\"/first/<int:messageid>\")\n",
    "def get_first(mssageid):\n",
    "    data = add_file(messageid)\n",
    "    return \"<h1>%d</h1>\" % (data)\n",
    "\n",
    "if __name__ ==\"__main__\":\n",
    "    app.run(host= \"0.0.0.0\", port = \"8080\")"
   ]
  },
  {
   "cell_type": "markdown",
   "metadata": {},
   "source": [
    "### 3. flask로 REST API구현하기\n",
    "##### HTTP(Hypertext Transfer Protocol)\n",
    "- Server/Client 모델로 Request/Response 사용\n",
    "    - Client에서 요청을 보내면, Server에서 응답을 준다.\n",
    "    - HTTP는 Connectionless한 프로토콜입 - 1회성 Request 및 Respose\n",
    "    - TCP/IP socket을 이용해서 연결됨\n",
    "\n",
    "##### Rest(REpresentational State Transfer)\n",
    "    \n",
    "    - 자원의 표현에 의한 상태 전달\n",
    "    \n",
    "    - HTTP URI를 통해 자원을 명시하고, HTTP Method를 통해 자원에 대한 CRUD Operation적용\n",
    "    \n",
    "        - CRUD Operation와 HTTP Method\n",
    "        \n",
    "                - Create : 생성 (POST)\n",
    "                - Read : 조회 (GET)\n",
    "                - Update : 수정(PUT)\n",
    "                - Delete : 삭제(Delete)\n",
    "##### Flask로 REST API구현 방법\n",
    "- 특정한 URI를 요청하면 JSON형식으로 데이터를 반환하도록 만들면 됨\n",
    "- 즉, 웹주소(URI) 요청에 대한 응답(Response)를 JSON 형식으로 작성\n",
    "- Flask에서는 dict(사전) 데이터를 응답 데이터로 만들고, 이를 jsonify()를 활용해서 JSON 응답 데이터로 만듬"
   ]
  },
  {
   "cell_type": "code",
   "execution_count": 3,
   "metadata": {},
   "outputs": [
    {
     "name": "stdout",
     "output_type": "stream",
     "text": [
      " * Serving Flask app '__main__'\n",
      " * Debug mode: off\n"
     ]
    },
    {
     "name": "stderr",
     "output_type": "stream",
     "text": [
      "WARNING: This is a development server. Do not use it in a production deployment. Use a production WSGI server instead.\n",
      " * Running on all addresses (0.0.0.0)\n",
      " * Running on http://127.0.0.1:8080\n",
      " * Running on http://192.168.11.83:8080\n",
      "Press CTRL+C to quit\n",
      "192.168.11.83 - - [07/Sep/2022 21:44:20] \"GET /json_test HTTP/1.1\" 200 -\n"
     ]
    }
   ],
   "source": [
    "from flask import Flask, jsonify\n",
    "app = Flask(__name__)\n",
    "\n",
    "@app.route('/json_test')\n",
    "def hello_json():\n",
    "    data = {'name' : '김대리','family' : 'Byun'}\n",
    "    return jsonify(data)\n",
    "\n",
    "@app.route('/server_info')\n",
    "def server_json():\n",
    "    data = {'server_name' : '0.0.0.0','server_port' : '8080'}\n",
    "    return jsonify(data)\n",
    "\n",
    "if __name__ == \"__main__\":\n",
    "    app.run(host=\"0.0.0.0\", port = \"8080\")"
   ]
  },
  {
   "cell_type": "code",
   "execution_count": null,
   "metadata": {},
   "outputs": [],
   "source": []
  }
 ],
 "metadata": {
  "kernelspec": {
   "display_name": "Python 3",
   "language": "python",
   "name": "python3"
  },
  "language_info": {
   "codemirror_mode": {
    "name": "ipython",
    "version": 3
   },
   "file_extension": ".py",
   "mimetype": "text/x-python",
   "name": "python",
   "nbconvert_exporter": "python",
   "pygments_lexer": "ipython3",
   "version": "3.7.9"
  }
 },
 "nbformat": 4,
 "nbformat_minor": 4
}
