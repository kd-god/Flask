{
 "cells": [
  {
   "cell_type": "code",
   "execution_count": null,
   "metadata": {},
   "outputs": [],
   "source": [
    "from flask import Flask"
   ]
  },
  {
   "cell_type": "markdown",
   "metadata": {},
   "source": [
    "1.\n",
    "Flask(__name__)으로 객체를 설정하여, 현재 위치를 flask 객체에 알려줘야함. 아니면\n",
    "정상 동작되지 않음\n",
    "\n",
    "2.\n",
    "__name__은 해당 파일을 직접 실행하면 __main__으로 시작되고, 타 파일에서\n",
    "module로서 실행되면 해당 파일의 이름으로 실행된다."
   ]
  },
  {
   "cell_type": "code",
   "execution_count": null,
   "metadata": {},
   "outputs": [],
   "source": [
    "app = Flask(__name__)"
   ]
  },
  {
   "cell_type": "code",
   "execution_count": null,
   "metadata": {},
   "outputs": [],
   "source": [
    "__name__"
   ]
  },
  {
   "cell_type": "markdown",
   "metadata": {},
   "source": [
    "# 1. 라우팅?\n",
    "\n",
    "1-1. URL이란?\n",
    "\n",
    "- 가. Uniform Resource Locator\n",
    "\n",
    "- 나. 인터넷 상의 자원 위치 표기를 위한 규약\n",
    "\n",
    "- 다. www 주요 요소 중 하나 : HTML(데이터 나타냄), URL(데이터 위치), HTTP(통신 방법)\n",
    "\n",
    "---\n",
    "\n",
    "1-2. URL VS URI\n",
    "\n",
    "- 가. URI는 어떤 웹페이지의 대한 전체 주소를 말한다.\n",
    "\n",
    "ex ) https://news.naver.com/main/main.naver?mode=LSD&mid=shm&sid1=100\n",
    "\n",
    "- 나. URL은 라우팅까지의 위치를 뜻함.\n",
    "\n",
    "ex ) https://news.naver.com/main/main.naver\n",
    "\n",
    "---\n",
    "1-3. 라우팅이란?\n",
    "- 가. 적절한 목적지를 찾아주는 기능\n",
    "\n",
    "- 나. URL을 해당 URL에 맞는 기능과 연결해줌\n",
    "\n",
    "ex) \n",
    "\n",
    "http://www.fun-coding.rog/hello\n",
    "\n",
    "http://www.fun-coding.rog 서버에서 hello이라는 목적지에 맞는 함수를 호출해줌"
   ]
  },
  {
   "cell_type": "code",
   "execution_count": null,
   "metadata": {},
   "outputs": [],
   "source": [
    "@app.route(\"/hello\")\n",
    "def hello():\n",
    "    return \"<h1>Hello World!</h1>\""
   ]
  },
  {
   "cell_type": "markdown",
   "metadata": {},
   "source": [
    "# Web Server와 WAS 프레임워크\n",
    "\n",
    "- 웹서버는 정적인 HTML 페이지를 반환한다.\n",
    "    - 요청에 따른 정적인 데이터를 반환한다.\n",
    "\n",
    "- 웹서버가 동적으로 데이터를 반환하도록 하기 위해서는, WAS 프레임워크가 필요하다.\n",
    "    - 주요 WAS 프레임워크로는 Flask가 있다.\n",
    "    \n",
    " "
   ]
  },
  {
   "cell_type": "markdown",
   "metadata": {},
   "source": [
    "# 기본 개발 프로세스\n",
    "- 자신의 PC에서 웹서비스 구현\n",
    "    - locathost, 127.0.0.1 또는 0.0.0.0으로 host 설정\n",
    "    - app.run()함수로 자체 웹서버 구현 가능"
   ]
  },
  {
   "cell_type": "code",
   "execution_count": 1,
   "metadata": {},
   "outputs": [
    {
     "name": "stdout",
     "output_type": "stream",
     "text": [
      " * Serving Flask app '__main__'\n",
      " * Debug mode: off\n"
     ]
    },
    {
     "name": "stderr",
     "output_type": "stream",
     "text": [
      "WARNING: This is a development server. Do not use it in a production deployment. Use a production WSGI server instead.\n",
      " * Running on all addresses (0.0.0.0)\n",
      " * Running on http://127.0.0.1:8080\n",
      " * Running on http://192.168.11.83:8080\n",
      "Press CTRL+C to quit\n"
     ]
    }
   ],
   "source": [
    "from flask import Flask\n",
    "\n",
    "app = Flask(__name__)\n",
    "\n",
    "@app.route(\"/hello\")\n",
    "def hello():\n",
    "    return \"<h1>Hello Flask</h1>\"\n",
    "\n",
    "if __name__ == \"__main__\":\n",
    "    app.run(host=\"0.0.0.0\", port = \"8080\")"
   ]
  },
  {
   "cell_type": "code",
   "execution_count": null,
   "metadata": {},
   "outputs": [],
   "source": []
  }
 ],
 "metadata": {
  "kernelspec": {
   "display_name": "Python 3",
   "language": "python",
   "name": "python3"
  },
  "language_info": {
   "codemirror_mode": {
    "name": "ipython",
    "version": 3
   },
   "file_extension": ".py",
   "mimetype": "text/x-python",
   "name": "python",
   "nbconvert_exporter": "python",
   "pygments_lexer": "ipython3",
   "version": "3.7.9"
  }
 },
 "nbformat": 4,
 "nbformat_minor": 4
}
