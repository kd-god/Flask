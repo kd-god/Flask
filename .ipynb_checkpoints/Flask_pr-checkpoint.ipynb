{
 "cells": [
  {
   "cell_type": "code",
   "execution_count": 1,
   "metadata": {},
   "outputs": [],
   "source": [
    "from flask import Flask"
   ]
  },
  {
   "cell_type": "markdown",
   "metadata": {},
   "source": [
    "1.\n",
    "Flask(__name__)으로 객체를 설정하여, 현재 위치를 flask 객체에 알려줘야함. 아니면\n",
    "정상 동작되지 않음\n",
    "\n",
    "2.\n",
    "__name__은 해당 파일을 직접 실행하면 __main__으로 시작되고, 타 파일에서\n",
    "module로서 실행되면 해당 파일의 이름으로 실행된다."
   ]
  },
  {
   "cell_type": "code",
   "execution_count": 2,
   "metadata": {},
   "outputs": [],
   "source": [
    "app = Flask(__name__)"
   ]
  },
  {
   "cell_type": "code",
   "execution_count": 3,
   "metadata": {},
   "outputs": [
    {
     "data": {
      "text/plain": [
       "'__main__'"
      ]
     },
     "execution_count": 3,
     "metadata": {},
     "output_type": "execute_result"
    }
   ],
   "source": [
    "__name__"
   ]
  },
  {
   "cell_type": "markdown",
   "metadata": {},
   "source": [
    "# 1. 라우팅?\n",
    "\n",
    "## 1-1. URL이란?\n",
    "## 가. Uniform Resource Locator\n",
    "## 나. 인터넷 상의 자원 위치 표기를 위한 규약\n",
    "## 다. www 주요 요소 중 하나 : HTML, URL, HTTP"
   ]
  },
  {
   "cell_type": "code",
   "execution_count": null,
   "metadata": {},
   "outputs": [],
   "source": []
  }
 ],
 "metadata": {
  "kernelspec": {
   "display_name": "Python 3",
   "language": "python",
   "name": "python3"
  },
  "language_info": {
   "codemirror_mode": {
    "name": "ipython",
    "version": 3
   },
   "file_extension": ".py",
   "mimetype": "text/x-python",
   "name": "python",
   "nbconvert_exporter": "python",
   "pygments_lexer": "ipython3",
   "version": "3.7.9"
  }
 },
 "nbformat": 4,
 "nbformat_minor": 4
}
